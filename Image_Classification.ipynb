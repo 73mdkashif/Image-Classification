{
 "cells": [
  {
   "cell_type": "code",
   "execution_count": 1,
   "id": "c6d0c628",
   "metadata": {},
   "outputs": [],
   "source": [
    "import tensorflow as tf\n",
    "from tensorflow.keras import datasets, layers, models\n",
    "import matplotlib.pyplot as plt\n",
    "import numpy as np"
   ]
  },
  {
   "cell_type": "code",
   "execution_count": 2,
   "id": "32ce8e0e",
   "metadata": {},
   "outputs": [
    {
     "data": {
      "text/plain": [
       "(50000, 32, 32, 3)"
      ]
     },
     "execution_count": 2,
     "metadata": {},
     "output_type": "execute_result"
    }
   ],
   "source": [
    "(X_train, y_train), (X_test,y_test) = datasets.cifar10.load_data()\n",
    "X_train.shape"
   ]
  },
  {
   "cell_type": "code",
   "execution_count": 3,
   "id": "8957414e",
   "metadata": {},
   "outputs": [
    {
     "data": {
      "text/plain": [
       "(10000, 32, 32, 3)"
      ]
     },
     "execution_count": 3,
     "metadata": {},
     "output_type": "execute_result"
    }
   ],
   "source": [
    "X_test.shape"
   ]
  },
  {
   "cell_type": "code",
   "execution_count": 4,
   "id": "f2bd1d5b",
   "metadata": {},
   "outputs": [
    {
     "data": {
      "text/plain": [
       "(50000, 1)"
      ]
     },
     "execution_count": 4,
     "metadata": {},
     "output_type": "execute_result"
    }
   ],
   "source": [
    "y_train.shape"
   ]
  },
  {
   "cell_type": "code",
   "execution_count": 5,
   "id": "59b03e94",
   "metadata": {},
   "outputs": [
    {
     "data": {
      "text/plain": [
       "array([[6],\n",
       "       [9],\n",
       "       [9],\n",
       "       [4],\n",
       "       [1]], dtype=uint8)"
      ]
     },
     "execution_count": 5,
     "metadata": {},
     "output_type": "execute_result"
    }
   ],
   "source": [
    "y_train[:5]"
   ]
  },
  {
   "cell_type": "code",
   "execution_count": 6,
   "id": "d50d899c",
   "metadata": {},
   "outputs": [
    {
     "data": {
      "text/plain": [
       "array([6, 9, 9, 4, 1], dtype=uint8)"
      ]
     },
     "execution_count": 6,
     "metadata": {},
     "output_type": "execute_result"
    }
   ],
   "source": [
    "y_train = y_train.reshape(-1,)\n",
    "y_train[:5]"
   ]
  },
  {
   "cell_type": "code",
   "execution_count": 7,
   "id": "2635cee9",
   "metadata": {},
   "outputs": [],
   "source": [
    "y_test = y_test.reshape(-1,)"
   ]
  },
  {
   "cell_type": "code",
   "execution_count": 8,
   "id": "59dd074e",
   "metadata": {},
   "outputs": [],
   "source": [
    "classes = [\"airplane\",\"automobile\",\"bird\",\"cat\",\"deer\",\"dog\",\"frog\",\"horse\",\"ship\",\"truck\"]"
   ]
  },
  {
   "cell_type": "code",
   "execution_count": 9,
   "id": "3b31113a",
   "metadata": {},
   "outputs": [],
   "source": [
    "def plot_sample(X, y, index):\n",
    "    plt.figure(figsize = (15,2))\n",
    "    plt.imshow(X[index])\n",
    "    plt.xlabel(classes[y[index]])"
   ]
  },
  {
   "cell_type": "code",
   "execution_count": 10,
   "id": "d954f02f",
   "metadata": {},
   "outputs": [
    {
     "data": {
      "image/png": "[encoded data removed]",
      "text/plain": [
       "<Figure size 1080x144 with 1 Axes>"
      ]
     },
     "metadata": {
      "needs_background": "light"
     },
     "output_type": "display_data"
    }
   ],
   "source": [
    "plot_sample(X_train, y_train, 0)"
   ]
  },
  {
   "cell_type": "code",
   "execution_count": 11,
   "id": "967df2ae",
   "metadata": {},
   "outputs": [
    {
     "data": {
      "image/png": "[encoded data removed]",
      "text/plain": [
       "<Figure size 1080x144 with 1 Axes>"
      ]
     },
     "metadata": {
      "needs_background": "light"
     },
     "output_type": "display_data"
    }
   ],
   "source": [
    "plot_sample(X_train, y_train, 1)"
   ]
  },
  {
   "cell_type": "code",
   "execution_count": 12,
   "id": "e8743b43",
   "metadata": {},
   "outputs": [],
   "source": [
    "X_train = X_train / 255.0\n",
    "X_test = X_test / 255.0"
   ]
  },
  {
   "cell_type": "markdown",
   "id": "d00403d4",
   "metadata": {},
   "source": [
    "Adding Artificial Neural Netword"
   ]
  },
  {
   "cell_type": "code",
   "execution_count": 13,
   "id": "51b5c7d1",
   "metadata": {},
   "outputs": [],
   "source": [
    "ann = tf.keras.models.Sequential()"
   ]
  },
  {
   "cell_type": "code",
   "execution_count": 14,
   "id": "e3190cc1",
   "metadata": {},
   "outputs": [],
   "source": [
    "ann.add(tf.keras.layers.Flatten(input_shape=(32,32,3)))"
   ]
  },
  {
   "cell_type": "code",
   "execution_count": 15,
   "id": "167061db",
   "metadata": {},
   "outputs": [],
   "source": [
    "ann.add(tf.keras.layers.Dense(units=3000 , activation='relu'))"
   ]
  },
  {
   "cell_type": "code",
   "execution_count": 16,
   "id": "7e4469a9",
   "metadata": {},
   "outputs": [],
   "source": [
    "ann.add(tf.keras.layers.Dense(units=1000 , activation='relu'))"
   ]
  },
  {
   "cell_type": "code",
   "execution_count": 17,
   "id": "fee6ed25",
   "metadata": {},
   "outputs": [],
   "source": [
    "ann.add(tf.keras.layers.Dense(units=10,activation='softmax'))"
   ]
  },
  {
   "cell_type": "code",
   "execution_count": 18,
   "id": "7d0bae13",
   "metadata": {},
   "outputs": [],
   "source": [
    "ann.compile(optimizer='SGD' , loss = 'sparse_categorical_crossentropy' , metrics=['accuracy'])"
   ]
  },
  {
   "cell_type": "code",
   "execution_count": 19,
   "id": "b0d3ffd4",
   "metadata": {},
   "outputs": [
    {
     "name": "stdout",
     "output_type": "stream",
     "text": [
      "Epoch 1/10\n",
      "1563/1563 [==============================] - 191s 120ms/step - loss: 1.8149 - accuracy: 0.3534\n",
      "Epoch 2/10\n",
      "1563/1563 [==============================] - 191s 122ms/step - loss: 1.6256 - accuracy: 0.4270\n",
      "Epoch 3/10\n",
      "1563/1563 [==============================] - 187s 120ms/step - loss: 1.5444 - accuracy: 0.4536\n",
      "Epoch 4/10\n",
      "1563/1563 [==============================] - 183s 117ms/step - loss: 1.4854 - accuracy: 0.4762\n",
      "Epoch 5/10\n",
      "1563/1563 [==============================] - 185s 118ms/step - loss: 1.4356 - accuracy: 0.4954\n",
      "Epoch 6/10\n",
      "1563/1563 [==============================] - 184s 118ms/step - loss: 1.3927 - accuracy: 0.5079\n",
      "Epoch 7/10\n",
      "1563/1563 [==============================] - 189s 121ms/step - loss: 1.3540 - accuracy: 0.5254\n",
      "Epoch 8/10\n",
      "1563/1563 [==============================] - 185s 118ms/step - loss: 1.3197 - accuracy: 0.5377\n",
      "Epoch 9/10\n",
      "1563/1563 [==============================] - 184s 118ms/step - loss: 1.2877 - accuracy: 0.5468\n",
      "Epoch 10/10\n",
      "1563/1563 [==============================] - 190s 122ms/step - loss: 1.2563 - accuracy: 0.5604\n"
     ]
    },
    {
     "data": {
      "text/plain": [
       "<keras.callbacks.History at 0x1c3de116b80>"
      ]
     },
     "execution_count": 19,
     "metadata": {},
     "output_type": "execute_result"
    }
   ],
   "source": [
    "ann.fit(X_train, y_train, epochs=10)"
   ]
  },
  {
   "cell_type": "markdown",
   "id": "72b962f6",
   "metadata": {},
   "source": [
    "Adding CNN"
   ]
  },
  {
   "cell_type": "code",
   "execution_count": 20,
   "id": "e8755710",
   "metadata": {},
   "outputs": [],
   "source": [
    "cnn = tf.keras.models.Sequential()"
   ]
  },
  {
   "cell_type": "code",
   "execution_count": 21,
   "id": "5a1f15a7",
   "metadata": {},
   "outputs": [],
   "source": [
    "cnn.add(tf.keras.layers.Conv2D(filters=32, kernel_size=3, activation='relu', input_shape=[32, 32, 3]))"
   ]
  },
  {
   "cell_type": "code",
   "execution_count": 22,
   "id": "4fb88e96",
   "metadata": {},
   "outputs": [],
   "source": [
    "cnn.add(tf.keras.layers.MaxPool2D(pool_size=2, strides=2))"
   ]
  },
  {
   "cell_type": "code",
   "execution_count": 23,
   "id": "6124b419",
   "metadata": {},
   "outputs": [],
   "source": [
    "cnn.add(tf.keras.layers.Conv2D(filters=32, kernel_size=3, activation='relu'))\n",
    "cnn.add(tf.keras.layers.MaxPool2D(pool_size=2, strides=2))"
   ]
  },
  {
   "cell_type": "code",
   "execution_count": 24,
   "id": "308cbb43",
   "metadata": {},
   "outputs": [],
   "source": [
    "cnn.add(tf.keras.layers.Flatten())"
   ]
  },
  {
   "cell_type": "code",
   "execution_count": 25,
   "id": "c0adfee8",
   "metadata": {},
   "outputs": [],
   "source": [
    "cnn.add(tf.keras.layers.Dense(units=64, activation='relu'))"
   ]
  },
  {
   "cell_type": "code",
   "execution_count": 26,
   "id": "94556163",
   "metadata": {},
   "outputs": [],
   "source": [
    "cnn.add(tf.keras.layers.Dense(units=10, activation='sigmoid'))"
   ]
  },
  {
   "cell_type": "code",
   "execution_count": 27,
   "id": "60a119c3",
   "metadata": {},
   "outputs": [],
   "source": [
    "cnn.compile(optimizer = 'adam', loss = 'sparse_categorical_crossentropy', metrics = ['accuracy'])"
   ]
  },
  {
   "cell_type": "code",
   "execution_count": 28,
   "id": "0f4dbe96",
   "metadata": {},
   "outputs": [
    {
     "name": "stdout",
     "output_type": "stream",
     "text": [
      "Epoch 1/15\n",
      "1563/1563 [==============================] - 90s 56ms/step - loss: 1.5468 - accuracy: 0.4425\n",
      "Epoch 2/15\n",
      "1563/1563 [==============================] - 86s 55ms/step - loss: 1.2164 - accuracy: 0.5720\n",
      "Epoch 3/15\n",
      "1563/1563 [==============================] - 87s 56ms/step - loss: 1.0843 - accuracy: 0.6194\n",
      "Epoch 4/15\n",
      "1563/1563 [==============================] - 88s 56ms/step - loss: 1.0028 - accuracy: 0.6488\n",
      "Epoch 5/15\n",
      "1563/1563 [==============================] - 88s 56ms/step - loss: 0.9406 - accuracy: 0.6734\n",
      "Epoch 6/15\n",
      "1563/1563 [==============================] - 87s 56ms/step - loss: 0.8993 - accuracy: 0.6869\n",
      "Epoch 7/15\n",
      "1563/1563 [==============================] - 88s 56ms/step - loss: 0.8576 - accuracy: 0.7021\n",
      "Epoch 8/15\n",
      "1563/1563 [==============================] - 87s 56ms/step - loss: 0.8245 - accuracy: 0.7146\n",
      "Epoch 9/15\n",
      "1563/1563 [==============================] - 87s 56ms/step - loss: 0.7927 - accuracy: 0.7233\n",
      "Epoch 10/15\n",
      "1563/1563 [==============================] - 88s 56ms/step - loss: 0.7700 - accuracy: 0.7320\n",
      "Epoch 11/15\n",
      "1563/1563 [==============================] - 87s 55ms/step - loss: 0.7434 - accuracy: 0.7417\n",
      "Epoch 12/15\n",
      "1563/1563 [==============================] - 86s 55ms/step - loss: 0.7213 - accuracy: 0.7475\n",
      "Epoch 13/15\n",
      "1563/1563 [==============================] - 87s 56ms/step - loss: 0.7011 - accuracy: 0.7556\n",
      "Epoch 14/15\n",
      "1563/1563 [==============================] - 88s 56ms/step - loss: 0.6747 - accuracy: 0.7639\n",
      "Epoch 15/15\n",
      "1563/1563 [==============================] - 87s 56ms/step - loss: 0.6591 - accuracy: 0.7695\n"
     ]
    },
    {
     "data": {
      "text/plain": [
       "<keras.callbacks.History at 0x1c3df45c850>"
      ]
     },
     "execution_count": 28,
     "metadata": {},
     "output_type": "execute_result"
    }
   ],
   "source": [
    "cnn.fit(X_train, y_train, epochs=15)"
   ]
  },
  {
   "cell_type": "code",
   "execution_count": 29,
   "id": "6cd0faef",
   "metadata": {},
   "outputs": [
    {
     "name": "stdout",
     "output_type": "stream",
     "text": [
      "313/313 [==============================] - 8s 22ms/step - loss: 0.9700 - accuracy: 0.6820\n"
     ]
    },
    {
     "data": {
      "text/plain": [
       "[0.9700334072113037, 0.6819999814033508]"
      ]
     },
     "execution_count": 29,
     "metadata": {},
     "output_type": "execute_result"
    }
   ],
   "source": [
    "cnn.evaluate(X_test,y_test)"
   ]
  },
  {
   "cell_type": "code",
   "execution_count": 30,
   "id": "249e2448",
   "metadata": {},
   "outputs": [
    {
     "name": "stdout",
     "output_type": "stream",
     "text": [
      "313/313 [==============================] - 7s 20ms/step\n"
     ]
    },
    {
     "data": {
      "text/plain": [
       "array([[1.2106204e-01, 4.8134199e-04, 5.9742004e-02, 9.8659617e-01,\n",
       "        1.4949903e-01, 3.8474751e-01, 1.5756848e-01, 3.2214869e-02,\n",
       "        7.0029724e-01, 6.8156398e-04],\n",
       "       [9.9412549e-01, 9.9977535e-01, 4.5265548e-02, 4.0854748e-02,\n",
       "        2.8426928e-05, 4.4562777e-05, 2.0336086e-04, 1.9364181e-06,\n",
       "        9.9983013e-01, 4.2116787e-02],\n",
       "       [6.3602847e-01, 9.7560972e-01, 7.3393367e-02, 2.8857443e-01,\n",
       "        1.6014053e-02, 1.2511938e-02, 1.5353168e-02, 5.0896336e-03,\n",
       "        9.8352748e-01, 7.5954187e-01],\n",
       "       [9.9708277e-01, 4.6720967e-02, 7.0744789e-01, 4.2066333e-01,\n",
       "        3.3538923e-02, 3.2957257e-03, 5.1283035e-02, 6.2919740e-04,\n",
       "        9.0440977e-01, 4.5187329e-03],\n",
       "       [8.9246387e-05, 6.0981167e-03, 8.9370894e-01, 9.3020266e-01,\n",
       "        9.8890686e-01, 5.7441503e-01, 9.9631989e-01, 4.4731447e-03,\n",
       "        3.9631492e-03, 5.6241121e-04]], dtype=float32)"
      ]
     },
     "execution_count": 30,
     "metadata": {},
     "output_type": "execute_result"
    }
   ],
   "source": [
    "y_pred = cnn.predict(X_test)\n",
    "y_pred[:5]"
   ]
  },
  {
   "cell_type": "code",
   "execution_count": 31,
   "id": "fa703ac8",
   "metadata": {},
   "outputs": [
    {
     "data": {
      "text/plain": [
       "[3, 8, 8, 0, 6]"
      ]
     },
     "execution_count": 31,
     "metadata": {},
     "output_type": "execute_result"
    }
   ],
   "source": [
    "y_classes = [np.argmax(element) for element in y_pred]\n",
    "y_classes[:5]"
   ]
  },
  {
   "cell_type": "code",
   "execution_count": 32,
   "id": "91e2e53b",
   "metadata": {},
   "outputs": [
    {
     "data": {
      "text/plain": [
       "array([3, 8, 8, 0, 6], dtype=uint8)"
      ]
     },
     "execution_count": 32,
     "metadata": {},
     "output_type": "execute_result"
    }
   ],
   "source": [
    "y_test[:5]"
   ]
  },
  {
   "cell_type": "code",
   "execution_count": 33,
   "id": "f7f8b72c",
   "metadata": {},
   "outputs": [
    {
     "data": {
      "image/png": "[encoded data removed]",
      "text/plain": [
       "<Figure size 1080x144 with 1 Axes>"
      ]
     },
     "metadata": {
      "needs_background": "light"
     },
     "output_type": "display_data"
    }
   ],
   "source": [
    "plot_sample(X_test, y_test,3)"
   ]
  },
  {
   "cell_type": "code",
   "execution_count": 34,
   "id": "77e94547",
   "metadata": {},
   "outputs": [
    {
     "data": {
      "text/plain": [
       "'airplane'"
      ]
     },
     "execution_count": 34,
     "metadata": {},
     "output_type": "execute_result"
    }
   ],
   "source": [
    "classes[y_classes[3]]"
   ]
  },
  {
   "cell_type": "code",
   "execution_count": 35,
   "id": "8c6f59f0",
   "metadata": {},
   "outputs": [
    {
     "data": {
      "image/png": "[encoded data removed]",
      "text/plain": [
       "<Figure size 1080x144 with 1 Axes>"
      ]
     },
     "metadata": {
      "needs_background": "light"
     },
     "output_type": "display_data"
    }
   ],
   "source": [
    "plot_sample(X_test, y_test,4)"
   ]
  },
  {
   "cell_type": "code",
   "execution_count": 36,
   "id": "626e7e09",
   "metadata": {},
   "outputs": [
    {
     "data": {
      "text/plain": [
       "'frog'"
      ]
     },
     "execution_count": 36,
     "metadata": {},
     "output_type": "execute_result"
    }
   ],
   "source": [
    "classes[y_classes[4]]"
   ]
  },
  {
   "cell_type": "code",
   "execution_count": 37,
   "id": "c4c4c83e",
   "metadata": {},
   "outputs": [
    {
     "data": {
      "image/png": "[encoded data removed]",
      "text/plain": [
       "<Figure size 1080x144 with 1 Axes>"
      ]
     },
     "metadata": {
      "needs_background": "light"
     },
     "output_type": "display_data"
    }
   ],
   "source": [
    "plot_sample(X_test , y_test , 6)"
   ]
  },
  {
   "cell_type": "code",
   "execution_count": 38,
   "id": "be119a61",
   "metadata": {},
   "outputs": [
    {
     "data": {
      "text/plain": [
       "'automobile'"
      ]
     },
     "execution_count": 38,
     "metadata": {},
     "output_type": "execute_result"
    }
   ],
   "source": [
    "classes[y_classes[6]]"
   ]
  },
  {
   "cell_type": "code",
   "execution_count": 39,
   "id": "49a22124",
   "metadata": {},
   "outputs": [
    {
     "data": {
      "image/png": "[encoded data removed]",
      "text/plain": [
       "<Figure size 1080x144 with 1 Axes>"
      ]
     },
     "metadata": {
      "needs_background": "light"
     },
     "output_type": "display_data"
    }
   ],
   "source": [
    "plot_sample(X_test , y_test , 45)"
   ]
  },
  {
   "cell_type": "code",
   "execution_count": 40,
   "id": "23ed44d8",
   "metadata": {},
   "outputs": [
    {
     "data": {
      "text/plain": [
       "'truck'"
      ]
     },
     "execution_count": 40,
     "metadata": {},
     "output_type": "execute_result"
    }
   ],
   "source": [
    "classes[y_classes[45]]"
   ]
  },
  {
   "cell_type": "code",
   "execution_count": 42,
   "id": "b9c6bf07",
   "metadata": {},
   "outputs": [
    {
     "data": {
      "image/png": "[encoded data removed]",
      "text/plain": [
       "<Figure size 1080x144 with 1 Axes>"
      ]
     },
     "metadata": {
      "needs_background": "light"
     },
     "output_type": "display_data"
    }
   ],
   "source": [
    "plot_sample(X_test , y_test , 1000)"
   ]
  },
  {
   "cell_type": "code",
   "execution_count": 44,
   "id": "f4b6258e",
   "metadata": {},
   "outputs": [
    {
     "data": {
      "text/plain": [
       "'dog'"
      ]
     },
     "execution_count": 44,
     "metadata": {},
     "output_type": "execute_result"
    }
   ],
   "source": [
    "classes[y_classes[1000]]"
   ]
  },
  {
   "cell_type": "code",
   "execution_count": null,
   "id": "858e3f01",
   "metadata": {},
   "outputs": [],
   "source": []
  }
 ],
 "metadata": {
  "kernelspec": {
   "display_name": "Python 3 (ipykernel)",
   "language": "python",
   "name": "python3"
  },
  "language_info": {
   "codemirror_mode": {
    "name": "ipython",
    "version": 3
   },
   "file_extension": ".py",
   "mimetype": "text/x-python",
   "name": "python",
   "nbconvert_exporter": "python",
   "pygments_lexer": "ipython3",
   "version": "3.9.12"
  }
 },
 "nbformat": 4,
 "nbformat_minor": 5
}
